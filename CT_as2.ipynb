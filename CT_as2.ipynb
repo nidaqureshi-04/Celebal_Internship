{
  "nbformat": 4,
  "nbformat_minor": 0,
  "metadata": {
    "colab": {
      "provenance": []
    },
    "kernelspec": {
      "name": "python3",
      "display_name": "Python 3"
    },
    "language_info": {
      "name": "python"
    }
  },
  "cells": [
    {
      "cell_type": "markdown",
      "source": [
        "## ASSIGNMENT 2\n",
        "\n",
        "Create a Python program that implements a singly linked list using Object-Oriented Programming (OOP) principles. Your implementation should include the following: A Node class to represent each node in the list. A LinkedList class to manage the nodes, with methods to: Add a node to the end of the list Print the list Delete the nth node (where n is a 1-based index) Include exception handling to manage edge cases such as: Deleting a node from an empty list Deleting a node with an index out of range Test your implementation with at least one sample list."
      ],
      "metadata": {
        "id": "uOI9PxCLYfnV"
      }
    },
    {
      "cell_type": "code",
      "source": [
        "class Node:\n",
        "    def __init__(self, data):\n",
        "        self.data = data\n",
        "        self.next = None\n"
      ],
      "metadata": {
        "id": "Zojm_PMcZ2jE"
      },
      "execution_count": 20,
      "outputs": []
    },
    {
      "cell_type": "code",
      "source": [
        "class LinkedList:\n",
        "    def __init__(self):\n",
        "        self.head = None\n",
        "\n",
        "    def add_node(self, data):\n",
        "        \"\"\"Add a node to the end of the list\"\"\"\n",
        "        new_node = Node(data)\n",
        "        if not self.head:\n",
        "            self.head = new_node\n",
        "        else:\n",
        "            current = self.head\n",
        "            while current.next:\n",
        "                current = current.next\n",
        "            current.next = new_node\n",
        "\n",
        "    def print_list(self):\n",
        "        \"\"\"Print the list elements\"\"\"\n",
        "        if not self.head:\n",
        "            print(\"List is empty.\")\n",
        "            return\n",
        "        current = self.head\n",
        "        while current:\n",
        "            print(current.data, end=\" -> \" if current.next else \"\")\n",
        "            current = current.next\n",
        "        print()\n",
        "\n",
        "    def delete_nth_node(self, n):\n",
        "        \"\"\"Delete the nth node (1-based index)\"\"\"\n",
        "        try:\n",
        "            if not self.head:\n",
        "                raise Exception(\"Cannot delete from empty list.\")\n",
        "            if n <= 0:\n",
        "                raise Exception(\"Index should be >= 1.\")\n",
        "\n",
        "            if n == 1:\n",
        "                self.head = self.head.next\n",
        "                return\n",
        "\n",
        "            current = self.head\n",
        "            prev = None\n",
        "            count = 1\n",
        "\n",
        "            while current and count < n:\n",
        "                prev = current\n",
        "                current = current.next\n",
        "                count += 1\n",
        "\n",
        "            if not current:\n",
        "                raise Exception(f\"Index {n} is out of range.\")\n",
        "\n",
        "            prev.next = current.next\n",
        "\n",
        "        except Exception as e:\n",
        "            print(f\"Error: {e}\")\n"
      ],
      "metadata": {
        "id": "9-zBbOcvZ3Zg"
      },
      "execution_count": 21,
      "outputs": []
    },
    {
      "cell_type": "code",
      "source": [
        "ll = LinkedList()\n",
        "\n",
        "# Take user input to add nodes\n",
        "num_nodes = int(input(\"Enter the number of nodes you want to add: \"))\n",
        "for i in range(num_nodes):\n",
        "    data = input(f\"Enter data for node {i+1}: \")\n",
        "    ll.add_node(data)\n",
        "\n",
        "print(\"Initial list:\")\n",
        "ll.print_list()\n"
      ],
      "metadata": {
        "colab": {
          "base_uri": "https://localhost:8080/"
        },
        "id": "fTuzN3ZXZ4qP",
        "outputId": "9566760a-f539-45d7-95d0-004e535ec236"
      },
      "execution_count": 22,
      "outputs": [
        {
          "output_type": "stream",
          "name": "stdout",
          "text": [
            "Enter the number of nodes you want to add: 8\n",
            "Enter data for node 1: 20\n",
            "Enter data for node 2: 40\n",
            "Enter data for node 3: 60\n",
            "Enter data for node 4: 80\n",
            "Enter data for node 5: 100\n",
            "Enter data for node 6: 120\n",
            "Enter data for node 7: 140\n",
            "Enter data for node 8: 160\n",
            "Initial list:\n",
            "20 -> 40 -> 60 -> 80 -> 100 -> 120 -> 140 -> 160\n"
          ]
        }
      ]
    },
    {
      "cell_type": "code",
      "source": [
        "n = int(input(\"Enter the position (1-based index) of node to delete: \"))\n",
        "print(f\"Deleting node at position {n}:\")\n",
        "ll.delete_nth_node(n)\n",
        "ll.print_list()\n"
      ],
      "metadata": {
        "colab": {
          "base_uri": "https://localhost:8080/"
        },
        "id": "Nvm3YBJiZ6Kj",
        "outputId": "00d39b5e-f53b-4fe4-8253-db8da209d3b2"
      },
      "execution_count": 23,
      "outputs": [
        {
          "output_type": "stream",
          "name": "stdout",
          "text": [
            "Enter the position (1-based index) of node to delete: 5\n",
            "Deleting node at position 5:\n",
            "20 -> 40 -> 60 -> 80 -> 120 -> 140 -> 160\n"
          ]
        }
      ]
    },
    {
      "cell_type": "code",
      "source": [
        "print(\"Trying to delete node at position 100 (out of range):\")\n",
        "ll.delete_nth_node(100)\n",
        "ll.print_list()\n"
      ],
      "metadata": {
        "colab": {
          "base_uri": "https://localhost:8080/"
        },
        "id": "ME30yB6wZ717",
        "outputId": "8dd0251e-9c1c-46d3-cbce-59e9386d6883"
      },
      "execution_count": 24,
      "outputs": [
        {
          "output_type": "stream",
          "name": "stdout",
          "text": [
            "Trying to delete node at position 100 (out of range):\n",
            "Error: Index 100 is out of range.\n",
            "20 -> 40 -> 60 -> 80 -> 120 -> 140 -> 160\n"
          ]
        }
      ]
    },
    {
      "cell_type": "code",
      "source": [
        "print(\"Deleting remaining nodes one by one:\")\n",
        "while ll.head:\n",
        "    ll.delete_nth_node(1)\n",
        "    ll.print_list()\n"
      ],
      "metadata": {
        "colab": {
          "base_uri": "https://localhost:8080/"
        },
        "id": "URjaOLcAZ9G6",
        "outputId": "1d824a13-4cdd-4fc8-98c6-62d4a7ca58e9"
      },
      "execution_count": 25,
      "outputs": [
        {
          "output_type": "stream",
          "name": "stdout",
          "text": [
            "Deleting remaining nodes one by one:\n",
            "40 -> 60 -> 80 -> 120 -> 140 -> 160\n",
            "60 -> 80 -> 120 -> 140 -> 160\n",
            "80 -> 120 -> 140 -> 160\n",
            "120 -> 140 -> 160\n",
            "140 -> 160\n",
            "160\n",
            "List is empty.\n"
          ]
        }
      ]
    },
    {
      "cell_type": "code",
      "source": [
        "print(\"Trying to delete from empty list:\")\n",
        "ll.delete_nth_node(1)\n"
      ],
      "metadata": {
        "colab": {
          "base_uri": "https://localhost:8080/"
        },
        "id": "EcBPaObOZ_Ty",
        "outputId": "310e4564-bd0d-4649-eabc-2854b24c3d50"
      },
      "execution_count": 26,
      "outputs": [
        {
          "output_type": "stream",
          "name": "stdout",
          "text": [
            "Trying to delete from empty list:\n",
            "Error: Cannot delete from empty list.\n"
          ]
        }
      ]
    },
    {
      "cell_type": "markdown",
      "source": [
        "Conclusion:\n",
        "\n",
        "I implemented a singly linked list in Python using OOP. The program allows adding, printing, and deleting nodes, with proper error handling for empty lists and invalid positions. This improved our understanding of linked lists and exception handling."
      ],
      "metadata": {
        "id": "V6qlJv_BaaE3"
      }
    },
    {
      "cell_type": "code",
      "source": [],
      "metadata": {
        "id": "JYGsoQqQaBLz"
      },
      "execution_count": null,
      "outputs": []
    }
  ]
}