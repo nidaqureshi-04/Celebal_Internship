{
  "nbformat": 4,
  "nbformat_minor": 0,
  "metadata": {
    "colab": {
      "provenance": []
    },
    "kernelspec": {
      "name": "python3",
      "display_name": "Python 3"
    },
    "language_info": {
      "name": "python"
    }
  },
  "cells": [
    {
      "cell_type": "code",
      "execution_count": 1,
      "metadata": {
        "id": "RKoA-s8XWoOa"
      },
      "outputs": [],
      "source": [
        "n = 5"
      ]
    },
    {
      "cell_type": "code",
      "source": [
        "# Lower triangular pattern\n",
        "print(\"Lower Triangular Pattern:\")\n",
        "for i in range(1, n + 1):\n",
        "    print(\"*\" * i)\n",
        "print()"
      ],
      "metadata": {
        "colab": {
          "base_uri": "https://localhost:8080/"
        },
        "id": "roO-YVt2WtSR",
        "outputId": "dadf1ca0-afb4-4438-bffc-7f6a08e3ebdd"
      },
      "execution_count": 2,
      "outputs": [
        {
          "output_type": "stream",
          "name": "stdout",
          "text": [
            "Lower Triangular Pattern:\n",
            "*\n",
            "**\n",
            "***\n",
            "****\n",
            "*****\n",
            "\n"
          ]
        }
      ]
    },
    {
      "cell_type": "code",
      "source": [
        "\n",
        "# Upper triangular pattern\n",
        "print(\"Upper Triangular Pattern:\")\n",
        "for i in range(n, 0, -1):\n",
        "    print(\"*\" * i)\n",
        "print()"
      ],
      "metadata": {
        "colab": {
          "base_uri": "https://localhost:8080/"
        },
        "id": "FvJfCNKxWwbF",
        "outputId": "aacf7513-14e8-4488-e815-b01a958b161d"
      },
      "execution_count": 3,
      "outputs": [
        {
          "output_type": "stream",
          "name": "stdout",
          "text": [
            "Upper Triangular Pattern:\n",
            "*****\n",
            "****\n",
            "***\n",
            "**\n",
            "*\n",
            "\n"
          ]
        }
      ]
    },
    {
      "cell_type": "code",
      "source": [
        "# Pyramid pattern\n",
        "print(\"Pyramid Pattern:\")\n",
        "for i in range(1, n + 1):\n",
        "    spaces = ' ' * (n - i)\n",
        "    stars = '*' * (2 * i - 1)\n",
        "    print(spaces + stars)"
      ],
      "metadata": {
        "colab": {
          "base_uri": "https://localhost:8080/"
        },
        "id": "M6Oup4gWWx8N",
        "outputId": "5e66945f-3412-4d00-d7f3-4adb481f31b7"
      },
      "execution_count": 4,
      "outputs": [
        {
          "output_type": "stream",
          "name": "stdout",
          "text": [
            "Pyramid Pattern:\n",
            "    *\n",
            "   ***\n",
            "  *****\n",
            " *******\n",
            "*********\n"
          ]
        }
      ]
    },
    {
      "cell_type": "code",
      "source": [],
      "metadata": {
        "id": "1DwfhFgsWzMF"
      },
      "execution_count": null,
      "outputs": []
    }
  ]
}